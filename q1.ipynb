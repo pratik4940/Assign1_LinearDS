{
 "cells": [
  {
   "cell_type": "code",
   "execution_count": 33,
   "id": "a02ff35a",
   "metadata": {},
   "outputs": [],
   "source": [
    "class Solution:\n",
    "    def removeZeroSumSublists(self, head):\n",
    "        #\n",
    "        def yielder(n):\n",
    "            # yielder: Access elements of Linked List (n=head initially)\n",
    "            while n:\n",
    "                yield n\n",
    "                n = n.next\n",
    "        #\n",
    "        # A: nodes found\n",
    "        # S: Running Sum values (always unique, since duplicates triger cleanup)\n",
    "        # d: Companion dictionary for \"S\" (allows quick O(1) access).\n",
    "        #    Entries are d[cumulative_sum] = index \n",
    "        # t: Current Running sum\n",
    "        #\n",
    "        A, S = [], [] \n",
    "        d    = {0:-1} \n",
    "        t    = 0      # s: Current Sum\n",
    "        for n in yielder(head):\n",
    "            t += n.val\n",
    "            if t in d:\n",
    "                # Running Sum seen before, trigger cleanup\n",
    "                for _ in range(d[t]+1,len(A)):\n",
    "                    A.pop()\n",
    "                    d.pop(S.pop())\n",
    "                t = S[-1] if S else 0\n",
    "            else:\n",
    "              \n",
    "                A.append(n)\n",
    "                S.append(t)\n",
    "                d[t] = len(A) - 1\n",
    "   \n",
    "        A.append(None)\n",
    "        for i,x in enumerate(A[:-1]):\n",
    "            x.next = A[i+1]\n",
    "        return A[0]"
   ]
  },
  {
   "cell_type": "code",
   "execution_count": null,
   "id": "81bdee70",
   "metadata": {},
   "outputs": [],
   "source": []
  },
  {
   "cell_type": "code",
   "execution_count": null,
   "id": "25cdb199",
   "metadata": {},
   "outputs": [],
   "source": []
  }
 ],
 "metadata": {
  "kernelspec": {
   "display_name": "Python 3 (ipykernel)",
   "language": "python",
   "name": "python3"
  },
  "language_info": {
   "codemirror_mode": {
    "name": "ipython",
    "version": 3
   },
   "file_extension": ".py",
   "mimetype": "text/x-python",
   "name": "python",
   "nbconvert_exporter": "python",
   "pygments_lexer": "ipython3",
   "version": "3.10.0"
  }
 },
 "nbformat": 4,
 "nbformat_minor": 5
}
