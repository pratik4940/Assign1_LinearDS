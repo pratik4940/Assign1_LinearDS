{
 "cells": [
  {
   "cell_type": "code",
   "execution_count": 9,
   "id": "950cb047",
   "metadata": {},
   "outputs": [
    {
     "name": "stdout",
     "output_type": "stream",
     "text": [
      "K'th smallest element is 5\n"
     ]
    }
   ],
   "source": [
    "def kthSmallest(arr, n, k):\n",
    "\n",
    "    arr.sort()\n",
    " \n",
    "   \n",
    "    return arr[k-1]\n",
    " \n",
    "\n",
    "if __name__=='__main__':\n",
    "    arr = [12, 3, 5, 7, 19]\n",
    "    n = len(arr)\n",
    "    k = 2\n",
    "    print(\"K'th smallest element is\",\n",
    "          kthSmallest(arr, n, k))\n",
    "    "
   ]
  },
  {
   "cell_type": "code",
   "execution_count": null,
   "id": "5f094a22",
   "metadata": {},
   "outputs": [],
   "source": []
  },
  {
   "cell_type": "code",
   "execution_count": null,
   "id": "600eba58",
   "metadata": {},
   "outputs": [],
   "source": []
  }
 ],
 "metadata": {
  "kernelspec": {
   "display_name": "Python 3 (ipykernel)",
   "language": "python",
   "name": "python3"
  },
  "language_info": {
   "codemirror_mode": {
    "name": "ipython",
    "version": 3
   },
   "file_extension": ".py",
   "mimetype": "text/x-python",
   "name": "python",
   "nbconvert_exporter": "python",
   "pygments_lexer": "ipython3",
   "version": "3.10.0"
  }
 },
 "nbformat": 4,
 "nbformat_minor": 5
}
