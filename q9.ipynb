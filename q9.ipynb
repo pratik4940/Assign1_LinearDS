{
 "cells": [
  {
   "cell_type": "code",
   "execution_count": 21,
   "id": "4a2176c9",
   "metadata": {},
   "outputs": [
    {
     "name": "stdout",
     "output_type": "stream",
     "text": [
      "postfix evaluation: 4\n"
     ]
    }
   ],
   "source": [
    "class Evaluate:\n",
    "     \n",
    "   \n",
    "    def __init__(self, capacity):\n",
    "        self.top = -1\n",
    "        self.capacity = capacity\n",
    "        \n",
    "        self.array = []\n",
    "     \n",
    "    \n",
    "    def isEmpty(self):\n",
    "        return True if self.top == -1 else False\n",
    "   \n",
    "    def peek(self):\n",
    "        return self.array[-1]\n",
    "     \n",
    "    \n",
    "    def pop(self):\n",
    "        if not self.isEmpty():\n",
    "            self.top -= 1\n",
    "            return self.array.pop()\n",
    "        else:\n",
    "            return \"$\"\n",
    "     \n",
    "    \n",
    "    def push(self, op):\n",
    "        self.top += 1\n",
    "        self.array.append(op)\n",
    " \n",
    " \n",
    "    def evaluatePostfix(self, exp):\n",
    "         \n",
    "       \n",
    "        for i in exp:\n",
    "             \n",
    "           \n",
    "            if i.isdigit():\n",
    "                self.push(i)\n",
    " \n",
    "            else:\n",
    "                val1 = self.pop()\n",
    "                val2 = self.pop()\n",
    "                self.push(str(eval(val2 + i + val1)))\n",
    " \n",
    "        return int(self.pop())\n",
    "                 \n",
    " \n",
    "\n",
    "exp = \"123+-34\"\n",
    "obj = Evaluate(len(exp))\n",
    "print (\"postfix evaluation: %d\"%(obj.evaluatePostfix(exp)))\n"
   ]
  },
  {
   "cell_type": "code",
   "execution_count": null,
   "id": "48a77610",
   "metadata": {},
   "outputs": [],
   "source": []
  },
  {
   "cell_type": "code",
   "execution_count": null,
   "id": "a2bf91a6",
   "metadata": {},
   "outputs": [],
   "source": []
  }
 ],
 "metadata": {
  "kernelspec": {
   "display_name": "Python 3 (ipykernel)",
   "language": "python",
   "name": "python3"
  },
  "language_info": {
   "codemirror_mode": {
    "name": "ipython",
    "version": 3
   },
   "file_extension": ".py",
   "mimetype": "text/x-python",
   "name": "python",
   "nbconvert_exporter": "python",
   "pygments_lexer": "ipython3",
   "version": "3.10.0"
  }
 },
 "nbformat": 4,
 "nbformat_minor": 5
}
