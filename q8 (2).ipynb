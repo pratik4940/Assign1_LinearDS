{
 "cells": [
  {
   "cell_type": "code",
   "execution_count": 14,
   "id": "a70d5f31",
   "metadata": {},
   "outputs": [
    {
     "name": "stdout",
     "output_type": "stream",
     "text": [
      "Enter a stringalliswell\n",
      "Reversed string is llewsilla\n"
     ]
    }
   ],
   "source": [
    "def createStack():\n",
    "    stack=[]\n",
    "    return stack\n",
    " \n",
    "\n",
    "def size(stack):\n",
    "    return len(stack)\n",
    "\n",
    "def isEmpty(stack):\n",
    "    if size(stack) == 0:\n",
    "        return true\n",
    " \n",
    "\n",
    "def push(stack,item):\n",
    "    stack.append(item)\n",
    " \n",
    "\n",
    "def pop(stack):\n",
    "    if isEmpty(stack): return\n",
    "    return stack.pop()\n",
    " \n",
    "\n",
    "def reverse(string):\n",
    "    n = len(string)\n",
    "     \n",
    "    \n",
    "    stack = createStack()\n",
    " \n",
    "    \n",
    "    for i in range(0,n,1):\n",
    "        push(stack,string[i])\n",
    " \n",
    "    \n",
    "    string=\"\"\n",
    " \n",
    "    \n",
    "    for i in range(0,n,1):\n",
    "        string+=pop(stack)\n",
    "         \n",
    "    return string\n",
    "     \n",
    "\n",
    "string=input(\"Enter a string\")\n",
    "string = reverse(string)\n",
    "print(\"Reversed string is \" + string)"
   ]
  },
  {
   "cell_type": "code",
   "execution_count": null,
   "id": "e7b861bd",
   "metadata": {},
   "outputs": [],
   "source": []
  },
  {
   "cell_type": "code",
   "execution_count": null,
   "id": "b9f7b783",
   "metadata": {},
   "outputs": [],
   "source": []
  }
 ],
 "metadata": {
  "kernelspec": {
   "display_name": "Python 3 (ipykernel)",
   "language": "python",
   "name": "python3"
  },
  "language_info": {
   "codemirror_mode": {
    "name": "ipython",
    "version": 3
   },
   "file_extension": ".py",
   "mimetype": "text/x-python",
   "name": "python",
   "nbconvert_exporter": "python",
   "pygments_lexer": "ipython3",
   "version": "3.10.0"
  }
 },
 "nbformat": 4,
 "nbformat_minor": 5
}
