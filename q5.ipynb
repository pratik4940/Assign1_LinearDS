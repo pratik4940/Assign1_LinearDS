{
 "cells": [
  {
   "cell_type": "code",
   "execution_count": 8,
   "id": "970c93c4",
   "metadata": {},
   "outputs": [
    {
     "name": "stdout",
     "output_type": "stream",
     "text": [
      "The repeating elements are : \n",
      "2  \n",
      "3  \n"
     ]
    }
   ],
   "source": [
    "numRay = [0, 4, 3, 2, 7, 8, 2, 3, 1]\n",
    "arr_size = len(numRay)\n",
    "for i in range(arr_size):\n",
    "  \n",
    "    x = numRay[i] % arr_size\n",
    "    numRay[x] = numRay[x] + arr_size\n",
    "  \n",
    "print(\"The repeating elements are : \")\n",
    "for i in range(arr_size):\n",
    "    if (numRay[i] >= arr_size*2):\n",
    "        print(i, \" \")"
   ]
  },
  {
   "cell_type": "code",
   "execution_count": null,
   "id": "34c3f408",
   "metadata": {},
   "outputs": [],
   "source": []
  },
  {
   "cell_type": "code",
   "execution_count": null,
   "id": "a4a4f652",
   "metadata": {},
   "outputs": [],
   "source": []
  }
 ],
 "metadata": {
  "kernelspec": {
   "display_name": "Python 3 (ipykernel)",
   "language": "python",
   "name": "python3"
  },
  "language_info": {
   "codemirror_mode": {
    "name": "ipython",
    "version": 3
   },
   "file_extension": ".py",
   "mimetype": "text/x-python",
   "name": "python",
   "nbconvert_exporter": "python",
   "pygments_lexer": "ipython3",
   "version": "3.10.0"
  }
 },
 "nbformat": 4,
 "nbformat_minor": 5
}
